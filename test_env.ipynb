{
 "cells": [
  {
   "cell_type": "code",
   "execution_count": 504,
   "metadata": {},
   "outputs": [],
   "source": [
    "import numpy as np\n",
    "class TComEnv:\n",
    "    def __init__(self):\n",
    "    \tself.nUEs = 2\n",
    "    \tself.nCHs = 5\n",
    "    \tself.iTTI = 1\n",
    "    \tself.trafficPeriod = [10,20] # in TTI\n",
    "    \tself.trafficSize = [50000,30000] # in KByte\n",
    "    \tself.txPow = np.ones((self.nUEs,1))\n",
    "    \tself.noisePow = np.ones((self.nUEs,1))/3\n",
    "    \tself.state = self.reset()\n",
    "    \tself.throughput = 0\n",
    "\n",
    "    def reset(self):\n",
    "        state ={\n",
    "            'buffer_size':100*np.ones((self.nUEs,)),\n",
    "            'channel_gain': np.ones((self.nCHs,self.nUEs)),\n",
    "            'new_traffic':np.zeros((self.nUEs,))\n",
    "        }\n",
    "        self.throughput = 0\n",
    "        self.iTTI = 1\n",
    "        return state\n",
    "\n",
    "    def step(self,action):\n",
    "\n",
    "    \t# 根据动作计算可传输的数据量\n",
    "    \tallocated_data_size = self.compute_alloc_data_size(action)\n",
    "\n",
    "    \t#计算传输后的缓存容量\n",
    "    \t#state.buffer_size = min(self.state.buffer_size - allocated_data_size, 0)\n",
    "\n",
    "    \t# 评价并给出奖励\n",
    "    \treward, remain_buffer_size = self.compute_reward(allocated_data_size)\n",
    "\n",
    "    \t#记录throughput\n",
    "    \tself.throughput += sum(self.state['buffer_size'] - remain_buffer_size)\n",
    "\n",
    "    \t# 更新缓存\n",
    "    \tself.state['buffer_size'] = remain_buffer_size\n",
    "\n",
    "    \t# 生成新的信道\n",
    "    \tchannel = np.random.normal(0, 1, size=(self.nCHs,self.nUEs)) + np.random.normal(0, 1, size=(self.nCHs,self.nUEs))*1j\n",
    "    \tself.state['channel_gain']= np.square(np.abs(channel))/2\n",
    "\n",
    "\n",
    "    \t# 产生新业务\n",
    "    \tself.state['new_traffic'] = np.zeros((self.nUEs,))\n",
    "    \tfor iUE in range(self.nUEs):\n",
    "    \t\tif self.iTTI % self.trafficPeriod[iUE] == 0:\n",
    "    \t\t\tself.state['new_traffic'][iUE] = self.trafficSize[iUE]\n",
    "\n",
    "\n",
    "    \tself.iTTI += 1\n",
    "\n",
    "    \treturn self.state, reward\n",
    "\n",
    "\n",
    "\n",
    "    def compute_alloc_data_size(self,action):\n",
    "\n",
    "\n",
    "\n",
    "    \t#把动作编号转变为二进制\n",
    "    \talloc_arr = np.zeros((self.nUEs*self.nCHs,))\n",
    "    \talloc_list = [int(x) for x in bin(action)[2:]]\n",
    "    \talloc_arr[-len(alloc_list):] = alloc_list\n",
    "\n",
    "    \t#把二进制串变形成为nUEs X nCHs的分配矩阵\n",
    "    \talloc_arr = alloc_arr.reshape((self.nCHs, self.nUEs))\n",
    "\n",
    "\n",
    "    \t#信号功率矩阵\n",
    "    \tdes_pow_arr = np.multiply(alloc_arr,self.state['channel_gain'])\n",
    "    \tdes_pow_arr = np.multiply(des_pow_arr, self.txPow.reshape((1,2)))\n",
    "\n",
    "    \t#干扰功率矩阵\n",
    "    \tch_pow_arr = np.multiply(alloc_arr,self.state['channel_gain'])\n",
    "    \tch_pow_arr = np.matmul(ch_pow_arr,self.txPow)\n",
    "\n",
    "\n",
    "    \tint_pow_arr = ch_pow_arr - des_pow_arr\n",
    "\n",
    "\n",
    "    \t#信噪干扰比矩阵\n",
    "    \tsinr_arr = np.divide(des_pow_arr,int_pow_arr+self.noisePow.reshape((1,2)))\n",
    "\n",
    "    \t#可传输数据量矩阵\n",
    "    \tbytes_arr = 180000*np.log2(1 + sinr_arr)/8\n",
    "\n",
    "    \t#每个用户分配到的可传输数据量\n",
    "    \talloc_data_size= np.sum(bytes_arr, axis = 0)\n",
    "\n",
    "    \treturn alloc_data_size\n",
    "\n",
    "\n",
    "    def compute_reward(self,allocated_data_size):\n",
    "\n",
    "            #奖励分两部分，1）针对UE的 2）公平奖励\n",
    "            #针对UE的，分配的容量跟缓存的容量越接近越好\n",
    "            UE_reward = np.zeros((2,))\n",
    "\n",
    "            for i in range(self.nUEs):\n",
    "                if self.state['buffer_size'][i] == 0:\n",
    "                    UE_reward[i] = - alloc_data_size[i]\n",
    "                else:\n",
    "                    UE_reward[i] = - abs(self.state['buffer_size'][i] - alloc_data_size[i])/self.state['buffer_size'][i]\n",
    "\n",
    "            #公平奖励，用户的缓存余量越接近越好\n",
    "            remain_buffer_size = self.state['buffer_size']  - alloc_data_size\n",
    "            remain_buffer_size = remain_buffer_size.clip(min = 0)\n",
    "\n",
    "            if sum(self.state['buffer_size']) == 0:\n",
    "                fair_reward = 0\n",
    "            else:\n",
    "                fair_reward = - (np.max(remain_buffer_size)-np.min(remain_buffer_size))/np.max(remain_buffer_size)\n",
    "\n",
    "            reward = sum(UE_reward) + fair_reward\n",
    "\n",
    "            return reward, remain_buffer_size\n",
    "\n",
    "  \n"
   ]
  },
  {
   "cell_type": "code",
   "execution_count": 505,
   "metadata": {},
   "outputs": [
    {
     "name": "stdout",
     "output_type": "stream",
     "text": [
      "nUEs : 2\n",
      "nCHs : 5\n",
      "iTTI : 1\n",
      "trafficPeriod : [10, 20]\n",
      "trafficSize : [50000, 30000]\n",
      "txPow : [[1.]\n",
      " [1.]]\n",
      "noisePow : [[0.33333333]\n",
      " [0.33333333]]\n",
      "throughput : 0\n",
      "state : {'buffer_size': array([100., 100.]), 'channel_gain': array([[1., 1.],\n",
      "       [1., 1.],\n",
      "       [1., 1.],\n",
      "       [1., 1.],\n",
      "       [1., 1.]]), 'new_traffic': array([0., 0.])}\n"
     ]
    }
   ],
   "source": [
    "env = TComEnv()\n",
    "temp = vars(env)\n",
    "for item in temp:\n",
    "    print(item, ':', temp[item])"
   ]
  },
  {
   "cell_type": "code",
   "execution_count": 506,
   "metadata": {},
   "outputs": [
    {
     "name": "stdout",
     "output_type": "stream",
     "text": [
      "nUEs : 2\n",
      "nCHs : 5\n",
      "iTTI : 1\n",
      "trafficPeriod : [10, 20]\n",
      "trafficSize : [50000, 30000]\n",
      "txPow : [[2]\n",
      " [1]]\n",
      "noisePow : [[0.33333333]\n",
      " [0.33333333]]\n",
      "throughput : 0\n",
      "state : {'buffer_size': array([100000.,  50000.]), 'channel_gain': array([[1., 2.],\n",
      "       [1., 2.],\n",
      "       [1., 2.],\n",
      "       [1., 2.],\n",
      "       [1., 2.]]), 'new_traffic': array([0., 0.])}\n"
     ]
    }
   ],
   "source": [
    "env.txPow = np.array([[2],[1]])\n",
    "env.state['buffer_size'][0] = 100000\n",
    "env.state['buffer_size'][1] = 50000\n",
    "env.state['channel_gain'][:,1]=2\n",
    "temp = vars(env)\n",
    "for item in temp:\n",
    "    print(item, ':', temp[item])"
   ]
  },
  {
   "cell_type": "code",
   "execution_count": 507,
   "metadata": {},
   "outputs": [
    {
     "data": {
      "text/plain": [
       "array([ 60283.22373564, 186614.19522823])"
      ]
     },
     "execution_count": 507,
     "metadata": {},
     "output_type": "execute_result"
    }
   ],
   "source": [
    "action = 1013\n",
    "env.compute_alloc_data_size(action)"
   ]
  },
  {
   "cell_type": "code",
   "execution_count": 508,
   "metadata": {},
   "outputs": [
    {
     "name": "stdout",
     "output_type": "stream",
     "text": [
      "[1. 1. 1. 1. 1. 1. 0. 1. 0. 1.]\n",
      "[[1. 1.]\n",
      " [1. 1.]\n",
      " [1. 1.]\n",
      " [0. 1.]\n",
      " [0. 1.]]\n"
     ]
    }
   ],
   "source": [
    "#分配矩阵\n",
    "alloc_arr = np.zeros((10,))\n",
    "alloc_list = [int(x) for x in bin(action)[2:]]\n",
    "alloc_arr[-len(alloc_list):] = alloc_list\n",
    "print(alloc_arr)\n",
    "alloc_arr = alloc_arr.reshape((5, 2))\n",
    "print(alloc_arr)"
   ]
  },
  {
   "cell_type": "code",
   "execution_count": 509,
   "metadata": {},
   "outputs": [
    {
     "name": "stdout",
     "output_type": "stream",
     "text": [
      "[[2. 2.]\n",
      " [2. 2.]\n",
      " [2. 2.]\n",
      " [0. 2.]\n",
      " [0. 2.]]\n"
     ]
    }
   ],
   "source": [
    "#信号功率矩阵\n",
    "des_pow_arr = np.multiply(alloc_arr,env.state['channel_gain'])\n",
    "des_pow_arr = np.multiply(des_pow_arr, env.txPow.reshape((1,2)))\n",
    "print(des_pow_arr)"
   ]
  },
  {
   "cell_type": "code",
   "execution_count": 510,
   "metadata": {},
   "outputs": [
    {
     "name": "stdout",
     "output_type": "stream",
     "text": [
      "[[4.]\n",
      " [4.]\n",
      " [4.]\n",
      " [2.]\n",
      " [2.]]\n"
     ]
    }
   ],
   "source": [
    "#每个信道上的信号总强度\n",
    "ch_pow_arr = np.multiply(alloc_arr,env.state['channel_gain'])\n",
    "ch_pow_arr = np.matmul(ch_pow_arr,env.txPow)\n",
    "print(ch_pow_arr)"
   ]
  },
  {
   "cell_type": "code",
   "execution_count": 511,
   "metadata": {},
   "outputs": [
    {
     "name": "stdout",
     "output_type": "stream",
     "text": [
      "[[2. 2.]\n",
      " [2. 2.]\n",
      " [2. 2.]\n",
      " [2. 0.]\n",
      " [2. 0.]]\n"
     ]
    }
   ],
   "source": [
    "#干扰矩阵\n",
    "int_pow_arr = ch_pow_arr - des_pow_arr\n",
    "print(int_pow_arr)"
   ]
  },
  {
   "cell_type": "code",
   "execution_count": 512,
   "metadata": {},
   "outputs": [
    {
     "name": "stdout",
     "output_type": "stream",
     "text": [
      "[[0.85714286 0.85714286]\n",
      " [0.85714286 0.85714286]\n",
      " [0.85714286 0.85714286]\n",
      " [0.         6.        ]\n",
      " [0.         6.        ]]\n"
     ]
    }
   ],
   "source": [
    "#信噪干扰比矩阵\n",
    "sinr_arr = np.divide(des_pow_arr,int_pow_arr + env.noisePow.reshape((1,2)))\n",
    "print(sinr_arr)"
   ]
  },
  {
   "cell_type": "code",
   "execution_count": 513,
   "metadata": {},
   "outputs": [
    {
     "name": "stdout",
     "output_type": "stream",
     "text": [
      "[[20094.40791188 20094.40791188]\n",
      " [20094.40791188 20094.40791188]\n",
      " [20094.40791188 20094.40791188]\n",
      " [    0.         63165.4857463 ]\n",
      " [    0.         63165.4857463 ]]\n"
     ]
    }
   ],
   "source": [
    "#可传输数据量矩阵\n",
    "bytes_arr = 180000*np.log2(1 + sinr_arr)/8\n",
    "print(bytes_arr)"
   ]
  },
  {
   "cell_type": "code",
   "execution_count": 514,
   "metadata": {},
   "outputs": [
    {
     "name": "stdout",
     "output_type": "stream",
     "text": [
      "[ 60283.22373564 186614.19522823]\n"
     ]
    }
   ],
   "source": [
    "#每个用户分配到的可传输数据量\n",
    "alloc_data_size= np.sum(bytes_arr, axis = 0)\n",
    "print(alloc_data_size)"
   ]
  },
  {
   "cell_type": "code",
   "execution_count": null,
   "metadata": {},
   "outputs": [],
   "source": []
  },
  {
   "cell_type": "code",
   "execution_count": 515,
   "metadata": {},
   "outputs": [
    {
     "name": "stdout",
     "output_type": "stream",
     "text": [
      "[-4.1294516672081985, array([39716.77626436,     0.        ])]\n"
     ]
    }
   ],
   "source": [
    "reward, remain_buffer_size = env.compute_reward(alloc_data_size)\n",
    "print([reward,remain_buffer_size])"
   ]
  },
  {
   "cell_type": "code",
   "execution_count": 516,
   "metadata": {},
   "outputs": [],
   "source": [
    "    \t#记录throughput\n",
    "    \tenv.throughput += sum(env.state['buffer_size'] - remain_buffer_size)"
   ]
  },
  {
   "cell_type": "code",
   "execution_count": 517,
   "metadata": {},
   "outputs": [
    {
     "data": {
      "text/plain": [
       "110283.22373563545"
      ]
     },
     "execution_count": 517,
     "metadata": {},
     "output_type": "execute_result"
    }
   ],
   "source": [
    "env.throughput"
   ]
  },
  {
   "cell_type": "code",
   "execution_count": 518,
   "metadata": {},
   "outputs": [
    {
     "data": {
      "text/plain": [
       "array([100000.,  50000.])"
      ]
     },
     "execution_count": 518,
     "metadata": {},
     "output_type": "execute_result"
    }
   ],
   "source": [
    "env.state['buffer_size']"
   ]
  },
  {
   "cell_type": "code",
   "execution_count": 519,
   "metadata": {},
   "outputs": [
    {
     "data": {
      "text/plain": [
       "array([  39716.77626436, -136614.19522823])"
      ]
     },
     "execution_count": 519,
     "metadata": {},
     "output_type": "execute_result"
    }
   ],
   "source": [
    "env.state['buffer_size'] - alloc_data_size"
   ]
  },
  {
   "cell_type": "code",
   "execution_count": 520,
   "metadata": {},
   "outputs": [],
   "source": [
    "\t\t#奖励分两部分，1）针对UE的 2）公平奖励\n",
    "\t\t#针对UE的，分配的容量跟缓存的容量越接近越好\n",
    "\t\tUE_reward = np.zeros((2,))\n",
    "\n",
    "\t\tfor i in range(env.nUEs):\n",
    "\t\t\tif env.state['buffer_size'][i] == 0:\n",
    "\t\t\t\tUE_reward[i] = - alloc_data_size[i]\n",
    "\t\t\telse:\n",
    "\t\t\t\tUE_reward[i] = - abs(env.state['buffer_size'][i] - alloc_data_size[i])/env.state['buffer_size'][i]\n",
    "      "
   ]
  },
  {
   "cell_type": "code",
   "execution_count": 521,
   "metadata": {},
   "outputs": [
    {
     "name": "stdout",
     "output_type": "stream",
     "text": [
      "[-0.39716776 -2.7322839 ]\n"
     ]
    }
   ],
   "source": [
    "  print(UE_reward)"
   ]
  },
  {
   "cell_type": "code",
   "execution_count": 522,
   "metadata": {},
   "outputs": [
    {
     "name": "stdout",
     "output_type": "stream",
     "text": [
      "-0.3971677626436\n"
     ]
    }
   ],
   "source": [
    "print(-abs(100000-60283.22373564)/100000)"
   ]
  },
  {
   "cell_type": "code",
   "execution_count": 523,
   "metadata": {},
   "outputs": [
    {
     "name": "stdout",
     "output_type": "stream",
     "text": [
      "-2.7322839045646\n"
     ]
    }
   ],
   "source": [
    "print(-abs(50000-186614.19522823)/50000)"
   ]
  },
  {
   "cell_type": "code",
   "execution_count": 524,
   "metadata": {},
   "outputs": [],
   "source": [
    "\t\t#公平奖励，用户的缓存余量越接近越好\n",
    "\t\tremain_buffer_size = env.state['buffer_size']  - alloc_data_size\n",
    "\t\tremain_buffer_size = remain_buffer_size.clip(min = 0)\n",
    "\n",
    "\t\tif sum(env.state['buffer_size']) == 0:\n",
    "\t\t\tfair_reward = 0\n",
    "\t\telse:\n",
    "\t\t\tfair_reward = - (np.max(remain_buffer_size)-np.min(remain_buffer_size))/np.max(remain_buffer_size)"
   ]
  },
  {
   "cell_type": "code",
   "execution_count": 525,
   "metadata": {},
   "outputs": [
    {
     "name": "stdout",
     "output_type": "stream",
     "text": [
      "-1.0\n"
     ]
    }
   ],
   "source": [
    "print(fair_reward)"
   ]
  },
  {
   "cell_type": "code",
   "execution_count": 526,
   "metadata": {},
   "outputs": [
    {
     "name": "stdout",
     "output_type": "stream",
     "text": [
      "[{'buffer_size': array([39716.77626436,     0.        ]), 'channel_gain': array([[0.10520588, 0.85185558],\n",
      "       [1.48454148, 0.96114967],\n",
      "       [1.27155577, 0.24922676],\n",
      "       [1.73962611, 0.93870394],\n",
      "       [0.70824596, 1.742404  ]]), 'new_traffic': array([0., 0.])}, -4.1294516672081985]\n"
     ]
    }
   ],
   "source": [
    "state, reward = env.step(action)\n",
    "print([state, reward])"
   ]
  },
  {
   "cell_type": "code",
   "execution_count": 527,
   "metadata": {},
   "outputs": [],
   "source": [
    "    \t# 产生新业务\n",
    "    \tenv.state['new_traffic'] = np.zeros((env.nUEs,))\n",
    "    \tfor iUE in range(env.nUEs):\n",
    "    \t\tif env.iTTI % env.trafficPeriod[iUE] == 0:\n",
    "    \t\t\tenv.state['new_traffic'][iUE] = env.trafficSize[iUE]"
   ]
  },
  {
   "cell_type": "code",
   "execution_count": 528,
   "metadata": {},
   "outputs": [
    {
     "name": "stdout",
     "output_type": "stream",
     "text": [
      "[0. 0.]\n"
     ]
    }
   ],
   "source": [
    "print(env.state['new_traffic'])"
   ]
  },
  {
   "cell_type": "code",
   "execution_count": 529,
   "metadata": {},
   "outputs": [
    {
     "name": "stdout",
     "output_type": "stream",
     "text": [
      "220566.4474712709\n"
     ]
    }
   ],
   "source": [
    "print(env.throughput)"
   ]
  },
  {
   "cell_type": "code",
   "execution_count": 530,
   "metadata": {},
   "outputs": [
    {
     "name": "stdout",
     "output_type": "stream",
     "text": [
      "110283.22373564\n"
     ]
    }
   ],
   "source": [
    "print(100000-39716.77626436 + 50000)"
   ]
  },
  {
   "cell_type": "code",
   "execution_count": 531,
   "metadata": {},
   "outputs": [
    {
     "name": "stdout",
     "output_type": "stream",
     "text": [
      "[{'buffer_size': array([39716.77626436,     0.        ]), 'channel_gain': array([[2.05566784, 0.97480668],\n",
      "       [0.36011713, 0.9026307 ],\n",
      "       [0.19416032, 0.46125527],\n",
      "       [0.74765196, 1.14091687],\n",
      "       [0.93748898, 1.31320764]]), 'new_traffic': array([0., 0.])}, -4.1294516672081985]\n"
     ]
    }
   ],
   "source": [
    "env.reset()\n",
    "env.txPow = np.array([[2],[1]])\n",
    "env.state['buffer_size'][0] = 100000\n",
    "env.state['buffer_size'][1] = 50000\n",
    "env.state['channel_gain'][:,1]=2\n",
    "state, reward = env.step(action)\n",
    "print([state, reward])"
   ]
  },
  {
   "cell_type": "code",
   "execution_count": 532,
   "metadata": {},
   "outputs": [
    {
     "name": "stdout",
     "output_type": "stream",
     "text": [
      "110283.22373563545\n"
     ]
    }
   ],
   "source": [
    "print(env.throughput)"
   ]
  },
  {
   "cell_type": "code",
   "execution_count": 533,
   "metadata": {},
   "outputs": [
    {
     "data": {
      "text/plain": [
       "110283.22373564"
      ]
     },
     "execution_count": 533,
     "metadata": {},
     "output_type": "execute_result"
    }
   ],
   "source": [
    "100000-39716.77626436+50000"
   ]
  },
  {
   "cell_type": "code",
   "execution_count": 534,
   "metadata": {},
   "outputs": [
    {
     "data": {
      "text/plain": [
       "110283.22373563545"
      ]
     },
     "execution_count": 534,
     "metadata": {},
     "output_type": "execute_result"
    }
   ],
   "source": [
    "sum(np.array([100000,50000]) - env.state['buffer_size'])"
   ]
  },
  {
   "cell_type": "code",
   "execution_count": 535,
   "metadata": {},
   "outputs": [
    {
     "data": {
      "text/plain": [
       "8"
      ]
     },
     "execution_count": 535,
     "metadata": {},
     "output_type": "execute_result"
    }
   ],
   "source": [
    "2**3\n"
   ]
  },
  {
   "cell_type": "code",
   "execution_count": 537,
   "metadata": {},
   "outputs": [
    {
     "data": {
      "text/plain": [
       "[array([39716.77626436,     0.        ]),\n",
       " array([[2.05566784, 0.97480668],\n",
       "        [0.36011713, 0.9026307 ],\n",
       "        [0.19416032, 0.46125527],\n",
       "        [0.74765196, 1.14091687],\n",
       "        [0.93748898, 1.31320764]]),\n",
       " array([0., 0.])]"
      ]
     },
     "execution_count": 537,
     "metadata": {},
     "output_type": "execute_result"
    }
   ],
   "source": [
    "list(env.state.values())"
   ]
  },
  {
   "cell_type": "code",
   "execution_count": 538,
   "metadata": {},
   "outputs": [
    {
     "data": {
      "text/plain": [
       "{'buffer_size': [39716.776264364555, 0.0],\n",
       " 'channel_gain': [[2.0556678398047628, 0.9748066802887989],\n",
       "  [0.3601171285525231, 0.9026307000057159],\n",
       "  [0.1941603186996454, 0.46125527200471034],\n",
       "  [0.747651962426482, 1.1409168656542037],\n",
       "  [0.9374889772307515, 1.313207642918771]],\n",
       " 'new_traffic': [0.0, 0.0]}"
      ]
     },
     "execution_count": 538,
     "metadata": {},
     "output_type": "execute_result"
    }
   ],
   "source": [
    "{k:v.tolist() for k,v in env.state.items()}"
   ]
  },
  {
   "cell_type": "code",
   "execution_count": 543,
   "metadata": {},
   "outputs": [
    {
     "data": {
      "text/plain": [
       "array([3.97167763e+04, 0.00000000e+00, 2.05566784e+00, 9.74806680e-01,\n",
       "       3.60117129e-01, 9.02630700e-01, 1.94160319e-01, 4.61255272e-01,\n",
       "       7.47651962e-01, 1.14091687e+00, 9.37488977e-01, 1.31320764e+00])"
      ]
     },
     "execution_count": 543,
     "metadata": {},
     "output_type": "execute_result"
    }
   ],
   "source": [
    "new_buffer_size = env.state['buffer_size'] + env.state['new_traffic']\n",
    "np.concatenate((new_buffer_size, env.state['channel_gain'].reshape((env.nUEs*env.nCHs,))))"
   ]
  },
  {
   "cell_type": "code",
   "execution_count": 544,
   "metadata": {},
   "outputs": [
    {
     "data": {
      "text/plain": [
       "[39716.776264364555, 0.0]"
      ]
     },
     "execution_count": 544,
     "metadata": {},
     "output_type": "execute_result"
    }
   ],
   "source": [
    "list(env.state['buffer_size'])"
   ]
  },
  {
   "cell_type": "code",
   "execution_count": 545,
   "metadata": {},
   "outputs": [
    {
     "data": {
      "text/plain": [
       "5"
      ]
     },
     "execution_count": 545,
     "metadata": {},
     "output_type": "execute_result"
    }
   ],
   "source": [
    "2+3"
   ]
  },
  {
   "cell_type": "code",
   "execution_count": null,
   "metadata": {},
   "outputs": [],
   "source": []
  }
 ],
 "metadata": {
  "kernelspec": {
   "display_name": "Python 3",
   "language": "python",
   "name": "python3"
  },
  "language_info": {
   "codemirror_mode": {
    "name": "ipython",
    "version": 3
   },
   "file_extension": ".py",
   "mimetype": "text/x-python",
   "name": "python",
   "nbconvert_exporter": "python",
   "pygments_lexer": "ipython3",
   "version": "3.7.3"
  }
 },
 "nbformat": 4,
 "nbformat_minor": 4
}
